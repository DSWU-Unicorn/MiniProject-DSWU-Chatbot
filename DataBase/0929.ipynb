{
 "cells": [
  {
   "cell_type": "code",
   "execution_count": 1,
   "id": "be733556",
   "metadata": {},
   "outputs": [],
   "source": [
    "import pandas as pd\n",
    "import numpy as np\n",
    "import sklearn as sk\n",
    "import matplotlib\n",
    "import matplotlib.pyplot as plt\n",
    "import matplotlib.font_manager as fm\n",
    "import seaborn as sns\n",
    "from sklearn.ensemble import ExtraTreesRegressor\n",
    "from sklearn.model_selection import KFold\n",
    "from sklearn.model_selection import cross_val_score\n",
    "from sklearn.metrics import make_scorer\n",
    "from sklearn.preprocessing import LabelEncoder\n",
    "import warnings\n",
    "warnings.filterwarnings(action = 'ignore')"
   ]
  },
  {
   "cell_type": "code",
   "execution_count": 2,
   "id": "a113b5ac",
   "metadata": {},
   "outputs": [
    {
     "name": "stdout",
     "output_type": "stream",
     "text": [
      "['/System/Library/Fonts/Supplemental/Telugu Sangam MN.ttc', '/System/Library/Fonts/Supplemental/NotoSansSaurashtra-Regular.ttf', '/System/Library/Fonts/Supplemental/NotoSansKayahLi-Regular.ttf', '/System/Library/Fonts/Supplemental/NotoSansGlagolitic-Regular.ttf', '/System/Library/Fonts/Supplemental/NotoSansNKo-Regular.ttf', '/System/Library/Fonts/Supplemental/PTSerifCaption.ttc', '/System/Library/Fonts/Supplemental/Diwan Kufi.ttc', '/System/Library/Fonts/Supplemental/Iowan Old Style.ttc', '/System/Library/Fonts/Supplemental/Khmer Sangam MN.ttf', '/Users/dy/miniforge3/envs/jedi/fonts/Ubuntu-LI.ttf', '/System/Library/Fonts/Supplemental/STIXNonUni.otf', '/System/Library/Fonts/Supplemental/Luminari.ttf', '/System/Library/Fonts/Supplemental/Courier New Bold.ttf', '/System/Library/Fonts/Supplemental/NotoSansPahawhHmong-Regular.ttf', '/System/Library/Fonts/KohinoorTelugu.ttc', '/System/Library/Fonts/Supplemental/Farisi.ttf', '/Users/dy/miniforge3/envs/jedi/fonts/SourceCodePro-ExtraLight.ttf', '/System/Library/Fonts/Supplemental/NotoSansTagbanwa-Regular.ttf', '/System/Library/Fonts/Supplemental/Sinhala Sangam MN.ttc', '/System/Library/Fonts/Supplemental/NotoSansKhudawadi-Regular.ttf', '/System/Library/Fonts/Supplemental/NotoSansBatak-Regular.ttf', '/System/Library/Fonts/Supplemental/Devanagari Sangam MN.ttc', '/System/Library/Fonts/Supplemental/NotoSansSundanese-Regular.ttf', '/System/Library/Fonts/Supplemental/NotoSansCarian-Regular.ttf', '/System/Library/Fonts/Supplemental/Tamil MN.ttc', '/System/Library/Fonts/Supplemental/PlantagenetCherokee.ttf', '/System/Library/Fonts/ヒラギノ角ゴシック W3.ttc', '/System/Library/Fonts/SFCompactItalic.ttf', '/System/Library/Fonts/Avenir Next Condensed.ttc', '/System/Library/Fonts/Supplemental/NotoSansBassaVah-Regular.ttf', '/System/Library/Fonts/Supplemental/NotoSansCypriot-Regular.ttf', '/System/Library/Fonts/Supplemental/Courier New.ttf', '/System/Library/Fonts/Supplemental/Chalkduster.ttf', '/System/Library/Fonts/Keyboard.ttf', '/System/Library/Fonts/Supplemental/NotoSansManichaean-Regular.ttf', '/System/Library/Fonts/Supplemental/Sinhala MN.ttc', '/System/Library/Fonts/SFNSItalic.ttf', '/System/Library/Fonts/Supplemental/STIXIntDReg.otf', '/System/Library/Fonts/Supplemental/NotoSansVai-Regular.ttf', '/System/Library/Fonts/Supplemental/Wingdings 2.ttf', '/System/Library/Fonts/Supplemental/Apple Chancery.ttf', '/System/Library/Fonts/Supplemental/Raanana.ttc', '/System/Library/Fonts/ヒラギノ角ゴシック W9.ttc', '/System/Library/Fonts/Supplemental/NotoSansLinearB-Regular.ttf', '/System/Library/Fonts/Supplemental/STIXSizOneSymReg.otf', '/System/Library/Fonts/Supplemental/Arial Narrow.ttf', '/System/Library/Fonts/Supplemental/STIXIntUpSmReg.otf', '/System/Library/Fonts/HelveticaNeue.ttc', '/System/Library/Fonts/Supplemental/NotoSansMarchen-Regular.ttf', '/System/Library/Fonts/Supplemental/NotoSansMahajani-Regular.ttf', '/System/Library/Fonts/Apple Braille Outline 8 Dot.ttf', '/System/Library/Fonts/Supplemental/NotoSansTifinagh-Regular.ttf', '/System/Library/Fonts/Avenir Next.ttc', '/System/Library/Fonts/SFCompactRounded.ttf', '/System/Library/Fonts/Supplemental/NotoSansPalmyrene-Regular.ttf', '/System/Library/Fonts/Supplemental/Brush Script.ttf', '/System/Library/Fonts/Supplemental/PartyLET-plain.ttf', '/System/Library/Fonts/Supplemental/Tahoma.ttf', '/System/Library/Fonts/Supplemental/Verdana.ttf', '/System/Library/Fonts/Supplemental/NotoSansElbasan-Regular.ttf', '/System/Library/Fonts/MuktaMahee.ttc', '/System/Library/Fonts/Supplemental/STIXGeneralBol.otf', '/System/Library/Fonts/Supplemental/Trebuchet MS Bold.ttf', '/System/Library/Fonts/NotoSansKannada.ttc', '/System/Library/Fonts/MarkerFelt.ttc', '/Users/dy/miniforge3/envs/jedi/fonts/UbuntuMono-R.ttf', '/System/Library/Fonts/Apple Braille.ttf', '/System/Library/Fonts/Supplemental/Tahoma Bold.ttf', '/System/Library/Fonts/Supplemental/NotoSansCham-Regular.ttf', '/System/Library/Fonts/Supplemental/SuperClarendon.ttc', '/System/Library/Fonts/Supplemental/Phosphate.ttc', '/System/Library/Fonts/Supplemental/NotoSansHanunoo-Regular.ttf', '/System/Library/Fonts/Supplemental/NotoSansMro-Regular.ttf', '/Users/dy/miniforge3/envs/jedi/fonts/DejaVuSans.ttf', '/System/Library/Fonts/Supplemental/Kailasa.ttc', '/System/Library/Fonts/Supplemental/Copperplate.ttc', '/System/Library/Fonts/Supplemental/NotoSansModi-Regular.ttf', '/System/Library/Fonts/Supplemental/Arial Bold Italic.ttf', '/System/Library/Fonts/Supplemental/Microsoft Sans Serif.ttf', '/System/Library/Fonts/Apple Symbols.ttf', '/System/Library/Fonts/Avenir.ttc', '/System/Library/Fonts/NotoSansArmenian.ttc', '/Users/dy/Library/Fonts/NotoSansKR-Bold.otf', '/System/Library/Fonts/Supplemental/Trattatello.ttf', '/System/Library/Fonts/Supplemental/NotoSansMendeKikakui-Regular.ttf', '/System/Library/Fonts/Supplemental/NotoSansSyriac-Regular.ttf', '/System/Library/Fonts/Supplemental/Damascus.ttc', '/System/Library/Fonts/Supplemental/NotoSansOsmanya-Regular.ttf', '/System/Library/Fonts/Supplemental/Zapfino.ttf', '/System/Library/Fonts/Supplemental/Trebuchet MS Bold Italic.ttf', '/System/Library/Fonts/Supplemental/Savoye LET.ttc', '/System/Library/Fonts/Supplemental/NotoSansInscriptionalParthian-Regular.ttf', '/System/Library/Fonts/Supplemental/Bodoni 72.ttc', '/System/Library/Fonts/Supplemental/NotoSansAvestan-Regular.ttf', '/System/Library/Fonts/Supplemental/DecoTypeNaskh.ttc', '/System/Library/Fonts/Supplemental/Nadeem.ttc', '/System/Library/Fonts/Apple Braille Pinpoint 6 Dot.ttf', '/System/Library/Fonts/Supplemental/Arial Bold.ttf', '/Users/dy/miniforge3/envs/jedi/fonts/Ubuntu-MI.ttf', '/System/Library/Fonts/ヒラギノ角ゴシック W1.ttc', '/System/Library/Fonts/Supplemental/STIXIntSmBol.otf', '/System/Library/Fonts/Supplemental/NotoSansTaiTham-Regular.ttf', '/System/Library/Fonts/Supplemental/Futura.ttc', '/System/Library/Fonts/Supplemental/Wingdings.ttf', '/Users/dy/Library/Fonts/NanumBarunGothic.ttf', '/System/Library/Fonts/Supplemental/InaiMathi-MN.ttc', '/Users/dy/miniforge3/envs/jedi/fonts/UbuntuMono-BI.ttf', '/System/Library/Fonts/Supplemental/NotoSansSamaritan-Regular.ttf', '/System/Library/Fonts/Supplemental/Malayalam Sangam MN.ttc', '/Users/dy/Library/Fonts/GmarketSansTTFMedium.ttf', '/System/Library/Fonts/Supplemental/Lao MN.ttc', '/System/Library/Fonts/Supplemental/NotoSansWancho-Regular.ttf', '/System/Library/Fonts/ヒラギノ角ゴシック W0.ttc', '/Users/dy/miniforge3/envs/jedi/fonts/SourceCodePro-Bold.ttf', '/System/Library/Fonts/SFNSMono.ttf', '/System/Library/Fonts/Apple Braille Pinpoint 8 Dot.ttf', '/System/Library/Fonts/Supplemental/NotoSansGothic-Regular.ttf', '/System/Library/Fonts/Monaco.ttf', '/System/Library/Fonts/Supplemental/NotoSansAdlam-Regular.ttf', '/System/Library/Fonts/Supplemental/Krungthep.ttf', '/Users/dy/miniforge3/envs/jedi/fonts/SourceCodePro-ExtraLightIt.ttf', '/System/Library/Fonts/KohinoorBangla.ttc', '/System/Library/Fonts/Supplemental/Gurmukhi.ttf', '/System/Library/Fonts/Supplemental/NotoSansTaiViet-Regular.ttf', '/Users/dy/miniforge3/envs/jedi/fonts/SourceCodePro-Light.ttf', '/System/Library/Fonts/Palatino.ttc', '/System/Library/Fonts/Supplemental/Muna.ttc', '/System/Library/Fonts/Supplemental/NotoSansBrahmi-Regular.ttf', '/Users/dy/miniforge3/envs/jedi/fonts/UbuntuMono-B.ttf', '/Users/dy/miniforge3/envs/jedi/fonts/SourceCodePro-Semibold.ttf', '/System/Library/Fonts/NotoNastaliq.ttc', '/System/Library/Fonts/Supplemental/Bradley Hand Bold.ttf', '/System/Library/Fonts/Geneva.ttf', '/Users/dy/miniforge3/envs/jedi/fonts/SourceCodePro-LightIt.ttf', '/System/Library/Fonts/Supplemental/Silom.ttf', '/System/Library/Fonts/Helvetica.ttc', '/Users/dy/miniforge3/envs/jedi/fonts/Ubuntu-M.ttf', '/Users/dy/miniforge3/envs/jedi/fonts/Ubuntu-B.ttf', '/System/Library/Fonts/Supplemental/NotoSansTakri-Regular.ttf', '/System/Library/Fonts/NotoSansMyanmar.ttc', '/System/Library/Fonts/Supplemental/NotoSansMeroitic-Regular.ttf', '/System/Library/Fonts/Supplemental/DevanagariMT.ttc', '/System/Library/Fonts/Supplemental/NotoSansPsalterPahlavi-Regular.ttf', '/System/Library/Fonts/Supplemental/NotoSansOldTurkic-Regular.ttf', '/System/Library/Fonts/Supplemental/NotoSansBuhid-Regular.ttf', '/System/Library/Fonts/Supplemental/NotoSansTagalog-Regular.ttf', '/System/Library/Fonts/Supplemental/Diwan Thuluth.ttf', '/System/Library/Fonts/AppleSDGothicNeo.ttc', '/System/Library/Fonts/Supplemental/STIXGeneral.otf', '/System/Library/Fonts/Supplemental/Charter.ttc', '/System/Library/Fonts/Supplemental/BigCaslon.ttf', '/System/Library/Fonts/Supplemental/Malayalam MN.ttc', '/System/Library/Fonts/Supplemental/Chalkboard.ttc', '/System/Library/Fonts/ヒラギノ角ゴシック W4.ttc', '/System/Library/Fonts/Supplemental/NotoSansUgaritic-Regular.ttf', '/System/Library/Fonts/SFNSMonoItalic.ttf', '/System/Library/Fonts/Supplemental/STIXSizOneSymBol.otf', '/System/Library/Fonts/Supplemental/DIN Alternate Bold.ttf', '/System/Library/Fonts/Supplemental/NotoSansJavanese-Regular.otf', '/System/Library/Fonts/Supplemental/NotoSansCaucasianAlbanian-Regular.ttf', '/System/Library/Fonts/Supplemental/Gurmukhi Sangam MN.ttc', '/System/Library/Fonts/ヒラギノ角ゴシック W6.ttc', '/System/Library/Fonts/Supplemental/Cochin.ttc', '/System/Library/Fonts/Supplemental/Bangla MN.ttc', '/System/Library/Fonts/Supplemental/NotoSansLimbu-Regular.ttf', '/System/Library/Fonts/Supplemental/NotoSansOldItalic-Regular.ttf', '/System/Library/Fonts/Supplemental/NotoSansOldSouthArabian-Regular.ttf', '/System/Library/Fonts/ヒラギノ角ゴシック W7.ttc', '/System/Library/Fonts/Supplemental/NotoSansRejang-Regular.ttf', '/System/Library/Fonts/Supplemental/NotoSansNewa-Regular.ttf', '/System/Library/Fonts/Supplemental/Arial Rounded Bold.ttf', '/Users/dy/miniforge3/envs/jedi/fonts/SourceCodePro-Regular.ttf', '/System/Library/Fonts/Supplemental/Academy Engraved LET Fonts.ttf', '/System/Library/Fonts/Supplemental/NotoSansBuginese-Regular.ttf', '/System/Library/Fonts/Supplemental/NotoSerifBalinese-Regular.ttf', '/System/Library/Fonts/Supplemental/Telugu MN.ttc', '/System/Library/Fonts/Supplemental/AppleGothic.ttf', '/System/Library/Fonts/Supplemental/Kokonor.ttf', '/System/Library/Fonts/Supplemental/STIXSizThreeSymReg.otf', '/System/Library/Fonts/Apple Color Emoji.ttc', '/System/Library/Fonts/NotoSerifMyanmar.ttc', '/Users/dy/miniforge3/envs/jedi/fonts/SourceCodePro-BoldIt.ttf', '/System/Library/Fonts/Supplemental/STIXSizTwoSymBol.otf', '/Users/dy/miniforge3/envs/jedi/fonts/SourceCodePro-It.ttf', '/System/Library/Fonts/Supplemental/NotoSansLisu-Regular.ttf', '/System/Library/Fonts/Supplemental/Sana.ttc', '/System/Library/Fonts/Supplemental/Al Nile.ttc', '/System/Library/Fonts/Supplemental/Mishafi Gold.ttf', '/Users/dy/miniforge3/envs/jedi/fonts/Inconsolata-Bold.ttf', '/System/Library/Fonts/KohinoorGujarati.ttc', '/System/Library/Fonts/Supplemental/Ayuthaya.ttf', '/System/Library/Fonts/Supplemental/SnellRoundhand.ttc', '/System/Library/Fonts/Supplemental/DIN Condensed Bold.ttf', '/System/Library/Fonts/Supplemental/STIXNonUniBol.otf', '/System/Library/Fonts/Supplemental/Didot.ttc', '/System/Library/Fonts/ヒラギノ角ゴシック W2.ttc', '/System/Library/Fonts/Supplemental/KufiStandardGK.ttc', '/Users/dy/miniforge3/envs/jedi/fonts/Ubuntu-BI.ttf', '/System/Library/Fonts/SFCompact.ttf', '/System/Library/Fonts/Supplemental/Galvji.ttc', '/System/Library/Fonts/Supplemental/NotoSansMasaramGondi-Regular.otf', '/System/Library/Fonts/Supplemental/NotoSansPhagsPa-Regular.ttf', '/System/Library/Fonts/ArialHB.ttc', '/System/Library/Fonts/Supplemental/STIXSizFourSymBol.otf', '/System/Library/Fonts/Supplemental/AlBayan.ttc', '/System/Library/Fonts/Supplemental/Rockwell.ttc', '/System/Library/Fonts/Menlo.ttc', '/System/Library/Fonts/Supplemental/NotoSansOldPermic-Regular.ttf', '/System/Library/Fonts/ZapfDingbats.ttf', '/System/Library/Fonts/Supplemental/NotoSansKharoshthi-Regular.ttf', '/System/Library/Fonts/Optima.ttc', '/System/Library/Fonts/Supplemental/Kefa.ttc', '/System/Library/Fonts/Supplemental/Arial Unicode.ttf', '/System/Library/Fonts/Supplemental/NotoSansLinearA-Regular.ttf', '/System/Library/Fonts/Supplemental/Trebuchet MS Italic.ttf', '/System/Library/Fonts/Supplemental/STIXVarBol.otf', '/System/Library/Fonts/Supplemental/Marion.ttc', '/System/Library/Fonts/STHeiti Medium.ttc', '/Users/dy/miniforge3/envs/jedi/fonts/Ubuntu-C.ttf', '/System/Library/Fonts/Supplemental/Georgia Bold.ttf', '/System/Library/Fonts/Supplemental/PTMono.ttc', '/System/Library/Fonts/Supplemental/NotoSansYi-Regular.ttf', '/System/Library/Fonts/Supplemental/NotoSansCuneiform-Regular.ttf', '/System/Library/Fonts/Supplemental/NotoSansCoptic-Regular.ttf', '/System/Library/Fonts/Supplemental/Times New Roman Bold Italic.ttf', '/Users/dy/miniforge3/envs/jedi/fonts/SourceCodePro-Black.ttf', '/System/Library/Fonts/Supplemental/NotoSansLydian-Regular.ttf', '/System/Library/Fonts/Supplemental/STIXVar.otf', '/System/Library/Fonts/Supplemental/EuphemiaCAS.ttc', '/Users/dy/Library/Fonts/D2Coding-Ver1.3.2-20180524.ttc', '/System/Library/Fonts/Times.ttc', '/System/Library/Fonts/Supplemental/STIXIntUpDReg.otf', '/System/Library/Fonts/Supplemental/Waseem.ttc', '/System/Library/Fonts/Supplemental/ChalkboardSE.ttc', '/System/Library/Fonts/Supplemental/NotoSansNewTaiLue-Regular.ttf', '/System/Library/Fonts/Supplemental/Verdana Bold.ttf', '/System/Library/Fonts/Supplemental/Oriya Sangam MN.ttc', '/System/Library/Fonts/Supplemental/Webdings.ttf', '/System/Library/Fonts/Supplemental/Tamil Sangam MN.ttc', '/System/Library/Fonts/SFNS.ttf', '/System/Library/Fonts/Apple Braille Outline 6 Dot.ttf', '/System/Library/Fonts/Supplemental/Arial Narrow Italic.ttf', '/System/Library/Fonts/Supplemental/AppleMyungjo.ttf', '/System/Library/Fonts/Supplemental/Comic Sans MS.ttf', '/System/Library/Fonts/Supplemental/NotoSansSharada-Regular.ttf', '/System/Library/Fonts/Supplemental/STIXSizFourSymReg.otf', '/Users/dy/Library/Fonts/NotoSansCJKkr-Regular.otf', '/Users/dy/miniforge3/envs/jedi/fonts/SourceCodePro-BlackIt.ttf', '/System/Library/Fonts/Supplemental/SignPainter.ttc', '/System/Library/Fonts/Supplemental/Seravek.ttc', '/System/Library/Fonts/Supplemental/NotoSansKaithi-Regular.ttf', '/System/Library/Fonts/Supplemental/STIXIntUpBol.otf', '/System/Library/Fonts/Symbol.ttf', '/System/Library/Fonts/Supplemental/Arial Narrow Bold.ttf', '/System/Library/Fonts/Supplemental/PTSerif.ttc', '/System/Library/Fonts/Supplemental/Mshtakan.ttc', '/System/Library/Fonts/Supplemental/NotoSansMultani-Regular.ttf', '/Users/dy/Library/Fonts/GmarketSansTTFBold.ttf', '/System/Library/Fonts/Supplemental/NotoSansDuployan-Regular.ttf', '/System/Library/Fonts/Supplemental/NotoSansWarangCiti-Regular.ttf', '/System/Library/Fonts/SFNSRounded.ttf', '/System/Library/Fonts/Supplemental/NotoSansMongolian-Regular.ttf', '/System/Library/Fonts/Supplemental/Kannada MN.ttc', '/System/Library/Fonts/Supplemental/Arial Black.ttf', '/Library/Fonts/Arial Unicode.ttf', '/System/Library/Fonts/Supplemental/Times New Roman.ttf', '/Users/dy/Library/Fonts/NotoSansCJKkr-Bold.otf', '/System/Library/Fonts/Supplemental/STIXIntSmReg.otf', '/System/Library/Fonts/Supplemental/Trebuchet MS.ttf', '/Users/dy/miniforge3/envs/jedi/fonts/SourceCodePro-SemiboldIt.ttf', '/System/Library/Fonts/Supplemental/Gurmukhi MN.ttc', '/System/Library/Fonts/Supplemental/Corsiva.ttc', '/System/Library/Fonts/Supplemental/NotoSansPhoenician-Regular.ttf', '/System/Library/Fonts/Supplemental/Bodoni 72 Smallcaps Book.ttf', '/System/Library/Fonts/Supplemental/Shree714.ttc', '/System/Library/Fonts/ヒラギノ角ゴシック W5.ttc', '/System/Library/Fonts/Supplemental/Baskerville.ttc', '/System/Library/Fonts/Supplemental/SukhumvitSet.ttc', '/System/Library/Fonts/Supplemental/STIXSizTwoSymReg.otf', '/System/Library/Fonts/STHeiti Light.ttc', '/System/Library/Fonts/Supplemental/Myanmar MN.ttc', '/System/Library/Fonts/Supplemental/Papyrus.ttc', '/System/Library/Fonts/Supplemental/Farah.ttc', '/System/Library/Fonts/Supplemental/NotoSansNabataean-Regular.ttf', '/Users/dy/miniforge3/envs/jedi/fonts/Inconsolata-Regular.ttf', '/System/Library/Fonts/Supplemental/NotoSansSiddham-Regular.ttf', '/System/Library/Fonts/Supplemental/STIXSizThreeSymBol.otf', '/System/Library/Fonts/Supplemental/Skia.ttf', '/System/Library/Fonts/Supplemental/NotoSansImperialAramaic-Regular.ttf', '/System/Library/Fonts/PingFang.ttc', '/System/Library/Fonts/Supplemental/Bodoni 72 OS.ttc', '/System/Library/Fonts/Supplemental/NotoSansGunjalaGondi-Regular.otf', '/System/Library/Fonts/Supplemental/STIXIntUpReg.otf', '/Users/dy/Library/Fonts/GmarketSansMedium.otf', '/System/Library/Fonts/Supplemental/Times New Roman Italic.ttf', '/System/Library/Fonts/Supplemental/Impact.ttf', '/System/Library/Fonts/Supplemental/Wingdings 3.ttf', '/System/Library/Fonts/SFArabic.ttf', '/System/Library/Fonts/Supplemental/Georgia Italic.ttf', '/System/Library/Fonts/LastResort.otf', '/System/Library/Fonts/Supplemental/AmericanTypewriter.ttc', '/System/Library/Fonts/Supplemental/NotoSansMiao-Regular.ttf', '/System/Library/Fonts/NewYork.ttf', '/Users/dy/Library/Fonts/GmarketSansLight.otf', '/System/Library/Fonts/NotoSansOriya.ttc', '/System/Library/Fonts/Supplemental/Bangla Sangam MN.ttc', '/System/Library/Fonts/ヒラギノ角ゴシック W8.ttc', '/System/Library/Fonts/Supplemental/Athelas.ttc', '/System/Library/Fonts/AquaKana.ttc', '/Users/dy/Library/Fonts/DungGeunMo.ttf', '/System/Library/Fonts/Supplemental/Comic Sans MS Bold.ttf', '/Users/dy/miniforge3/envs/jedi/fonts/Ubuntu-RI.ttf', '/System/Library/Fonts/Supplemental/GujaratiMT.ttc', '/System/Library/Fonts/Supplemental/NotoSansLepcha-Regular.ttf', '/System/Library/Fonts/Supplemental/STIXGeneralItalic.otf', '/System/Library/Fonts/Supplemental/Myanmar Sangam MN.ttc', '/System/Library/Fonts/Supplemental/STIXIntUpDBol.otf', '/System/Library/Fonts/Supplemental/NotoSansMeeteiMayek-Regular.ttf', '/System/Library/Fonts/Supplemental/Arial Narrow Bold Italic.ttf', '/System/Library/Fonts/Supplemental/Baghdad.ttc', '/System/Library/Fonts/Supplemental/Songti.ttc', '/System/Library/Fonts/Supplemental/NotoSansOldHungarian-Regular.ttf', '/System/Library/Fonts/Supplemental/NotoSerifAhom-Regular.ttf', '/Users/dy/miniforge3/envs/jedi/fonts/SourceCodePro-Medium.ttf', '/System/Library/Fonts/Supplemental/GillSans.ttc', '/System/Library/Fonts/Supplemental/Oriya MN.ttc', '/System/Library/Fonts/ヒラギノ丸ゴ ProN W4.ttc', '/System/Library/Fonts/LucidaGrande.ttc', '/System/Library/Fonts/Supplemental/STIXNonUniBolIta.otf', '/System/Library/Fonts/Supplemental/NotoSansEgyptianHieroglyphs-Regular.ttf', '/System/Library/Fonts/Supplemental/STIXIntDBol.otf', '/System/Library/Fonts/Supplemental/NotoSansSylotiNagri-Regular.ttf', '/System/Library/Fonts/Supplemental/NotoSansPauCinHau-Regular.ttf', '/System/Library/Fonts/Supplemental/NISC18030.ttf', '/Users/dy/Library/Fonts/GmarketSansBold.otf', '/System/Library/Fonts/Noteworthy.ttc', '/System/Library/Fonts/Supplemental/Andale Mono.ttf', '/System/Library/Fonts/GeezaPro.ttc', '/System/Library/Fonts/Supplemental/NotoSansHanifiRohingya-Regular.ttf', '/System/Library/Fonts/NewYorkItalic.ttf', '/System/Library/Fonts/Supplemental/Sathu.ttf', '/System/Library/Fonts/Kohinoor.ttc', '/System/Library/Fonts/ヒラギノ明朝 ProN.ttc', '/System/Library/Fonts/Supplemental/Verdana Bold Italic.ttf', '/System/Library/Fonts/Supplemental/NotoSansTaiLe-Regular.ttf', '/System/Library/Fonts/Supplemental/Beirut.ttc', '/System/Library/Fonts/Supplemental/Georgia.ttf', '/System/Library/Fonts/Supplemental/NotoSansKhojki-Regular.ttf', '/System/Library/Fonts/Supplemental/Al Tarikh.ttc', '/System/Library/Fonts/Supplemental/Herculanum.ttf', '/System/Library/Fonts/Supplemental/Mishafi.ttf', '/System/Library/Fonts/Supplemental/NotoSansInscriptionalPahlavi-Regular.ttf', '/System/Library/Fonts/Supplemental/NewPeninimMT.ttc', '/System/Library/Fonts/Supplemental/Courier New Italic.ttf', '/System/Library/Fonts/Supplemental/NotoSansTirhuta-Regular.ttf', '/Users/dy/miniforge3/envs/jedi/fonts/SourceCodePro-MediumIt.ttf', '/System/Library/Fonts/Supplemental/NotoSansOldPersian-Regular.ttf', '/System/Library/Fonts/Supplemental/NotoSansOldNorthArabian-Regular.ttf', '/System/Library/Fonts/Supplemental/Arial Italic.ttf', '/Users/dy/miniforge3/envs/jedi/fonts/Ubuntu-R.ttf', '/System/Library/Fonts/Supplemental/STIXIntUpSmBol.otf', '/Users/dy/miniforge3/envs/jedi/fonts/UbuntuMono-RI.ttf', '/System/Library/Fonts/Supplemental/ITFDevanagari.ttc', '/System/Library/Fonts/Supplemental/Courier New Bold Italic.ttf', '/System/Library/Fonts/Supplemental/STIXSizFiveSymReg.otf', '/System/Library/Fonts/Supplemental/NotoSansThaana-Regular.ttf', '/System/Library/Fonts/Supplemental/NotoSansSoraSompeng-Regular.ttf', '/System/Library/Fonts/Thonburi.ttc', '/System/Library/Fonts/Supplemental/NotoSansHatran-Regular.ttf', '/System/Library/Fonts/Supplemental/STIXGeneralBolIta.otf', '/System/Library/Fonts/Supplemental/Bodoni Ornaments.ttf', '/Users/dy/miniforge3/envs/jedi/fonts/Ubuntu-L.ttf', '/System/Library/Fonts/Supplemental/NotoSansBamum-Regular.ttf', '/System/Library/Fonts/Supplemental/NotoSansOlChiki-Regular.ttf', '/Users/dy/Library/Fonts/PretendardVariable.ttf', '/System/Library/Fonts/Supplemental/NotoSansBhaiksuki-Regular.ttf', '/System/Library/Fonts/Courier.ttc', '/System/Library/Fonts/Supplemental/NotoSerifYezidi-Regular.otf', '/System/Library/Fonts/Supplemental/Georgia Bold Italic.ttf', '/System/Library/Fonts/Supplemental/Khmer MN.ttc', '/System/Library/Fonts/Supplemental/Gujarati Sangam MN.ttc', '/System/Library/Fonts/Supplemental/NotoSansLycian-Regular.ttf', '/System/Library/Fonts/Supplemental/Verdana Italic.ttf', '/System/Library/Fonts/Supplemental/STIXNonUniIta.otf', '/System/Library/Fonts/Supplemental/NotoSansOsage-Regular.ttf', '/System/Library/Fonts/Supplemental/Kannada Sangam MN.ttc', '/System/Library/Fonts/Supplemental/NotoSansMandaic-Regular.ttf', '/System/Library/Fonts/Supplemental/Arial.ttf', '/System/Library/Fonts/Supplemental/PTSans.ttc', '/System/Library/Fonts/Hiragino Sans GB.ttc', '/System/Library/Fonts/Supplemental/Times New Roman Bold.ttf', '/System/Library/Fonts/Supplemental/Hoefler Text Ornaments.ttf', '/System/Library/Fonts/Supplemental/NotoSansChakma-Regular.ttf', '/System/Library/Fonts/Supplemental/Lao Sangam MN.ttf', '/System/Library/Fonts/Supplemental/Hoefler Text.ttc']\n"
     ]
    }
   ],
   "source": [
    "print(fm.findSystemFonts(fontpaths=None, fontext='ttf'))"
   ]
  },
  {
   "cell_type": "code",
   "execution_count": 3,
   "id": "3ac964db",
   "metadata": {},
   "outputs": [
    {
     "data": {
      "text/plain": [
       "['NanumBarunGothic']"
      ]
     },
     "execution_count": 3,
     "metadata": {},
     "output_type": "execute_result"
    }
   ],
   "source": [
    "f = [f.name for f in fm.fontManager.ttflist if 'Nanum' in f.name]\n",
    "f\n"
   ]
  },
  {
   "cell_type": "code",
   "execution_count": 4,
   "id": "0ca153ac",
   "metadata": {},
   "outputs": [],
   "source": [
    "# import matplotlib as mpl\n",
    "# mpl.get_configdir()"
   ]
  },
  {
   "cell_type": "code",
   "execution_count": 5,
   "id": "6f77a258",
   "metadata": {},
   "outputs": [],
   "source": [
    "# import matplotlib.font_manager as fm\n",
    "\n",
    "# fm._rebuild()"
   ]
  },
  {
   "cell_type": "code",
   "execution_count": 6,
   "id": "87803a6a",
   "metadata": {},
   "outputs": [
    {
     "name": "stdout",
     "output_type": "stream",
     "text": [
      "Pandas : 1.4.3\n",
      "Numpy : 1.22.4\n",
      "sklearn : 1.1.1\n",
      "matplotlib : 3.5.2\n",
      "seaborn : 0.11.2\n",
      "Python 3.8.13\r\n"
     ]
    }
   ],
   "source": [
    "# 한글폰트 설정(셀 실행후 런타임 다시시작을 하여 해당셀을 다시한번 실행해주어야 제대로 한글이 그래프에 나옴) <-- jupyter note 재부팅 필수!!\n",
    "\n",
    "# !apt -qq -y install fonts-nanum > /dev/null\n",
    "# fontpath = '/Users/dy/Library/Fonts/NanumBarunGothic.ttf'\n",
    "# font = fm.FontProperties(fname=fontpath, size=10)\n",
    "# fm._rebuild()\n",
    "plt.rc('font', family='NanumBarunGothic') \n",
    "\n",
    "# 그래프에 retina display 적용\n",
    "%config InlineBackend.figure_format = 'retina'\n",
    "\n",
    "# 버전확인\n",
    "print('Pandas : %s'%(pd.__version__))\n",
    "print('Numpy : %s'%(np.__version__))\n",
    "print('sklearn : %s'%(sk.__version__))\n",
    "print('matplotlib : %s'%(matplotlib.__version__))\n",
    "print('seaborn : %s'%(sns.__version__))\n",
    "!python --version"
   ]
  },
  {
   "cell_type": "code",
   "execution_count": 7,
   "id": "1c63b4e4",
   "metadata": {},
   "outputs": [
    {
     "name": "stdout",
     "output_type": "stream",
     "text": [
      "(1071, 5)\n"
     ]
    },
    {
     "data": {
      "text/html": [
       "<div>\n",
       "<style scoped>\n",
       "    .dataframe tbody tr th:only-of-type {\n",
       "        vertical-align: middle;\n",
       "    }\n",
       "\n",
       "    .dataframe tbody tr th {\n",
       "        vertical-align: top;\n",
       "    }\n",
       "\n",
       "    .dataframe thead th {\n",
       "        text-align: right;\n",
       "    }\n",
       "</style>\n",
       "<table border=\"1\" class=\"dataframe\">\n",
       "  <thead>\n",
       "    <tr style=\"text-align: right;\">\n",
       "      <th></th>\n",
       "      <th>전공/학과</th>\n",
       "      <th>교과목명</th>\n",
       "      <th>담당교수</th>\n",
       "      <th>강의시간</th>\n",
       "      <th>수강인원</th>\n",
       "    </tr>\n",
       "  </thead>\n",
       "  <tbody>\n",
       "    <tr>\n",
       "      <th>1066</th>\n",
       "      <td>실내디자인전공</td>\n",
       "      <td>인테리어디자인기초</td>\n",
       "      <td>한유진</td>\n",
       "      <td>화 E~F / N204</td>\n",
       "      <td>21</td>\n",
       "    </tr>\n",
       "    <tr>\n",
       "      <th>1067</th>\n",
       "      <td>시각디자인전공</td>\n",
       "      <td>시각디자인의기초</td>\n",
       "      <td>이승진</td>\n",
       "      <td>목 E~F / , 목 E~F / N309</td>\n",
       "      <td>25</td>\n",
       "    </tr>\n",
       "    <tr>\n",
       "      <th>1068</th>\n",
       "      <td>시각디자인전공</td>\n",
       "      <td>시각디자인의기초</td>\n",
       "      <td>김승민</td>\n",
       "      <td>목 E~F / , 목 E~F / N304</td>\n",
       "      <td>25</td>\n",
       "    </tr>\n",
       "    <tr>\n",
       "      <th>1069</th>\n",
       "      <td>텍스타일디자인전공</td>\n",
       "      <td>텍스타일디자인의기초</td>\n",
       "      <td>이재범</td>\n",
       "      <td>화 C~D / , 화 C~D / N103</td>\n",
       "      <td>33</td>\n",
       "    </tr>\n",
       "    <tr>\n",
       "      <th>1070</th>\n",
       "      <td>텍스타일디자인전공</td>\n",
       "      <td>텍스타일디자인의기초</td>\n",
       "      <td>서윤정</td>\n",
       "      <td>화 C~D / 차324</td>\n",
       "      <td>32</td>\n",
       "    </tr>\n",
       "  </tbody>\n",
       "</table>\n",
       "</div>"
      ],
      "text/plain": [
       "          전공/학과        교과목명 담당교수                    강의시간  수강인원\n",
       "1066    실내디자인전공   인테리어디자인기초  한유진            화 E~F / N204    21\n",
       "1067    시각디자인전공    시각디자인의기초  이승진  목 E~F / , 목 E~F / N309    25\n",
       "1068    시각디자인전공    시각디자인의기초  김승민  목 E~F / , 목 E~F / N304    25\n",
       "1069  텍스타일디자인전공  텍스타일디자인의기초  이재범  화 C~D / , 화 C~D / N103    33\n",
       "1070  텍스타일디자인전공  텍스타일디자인의기초  서윤정            화 C~D / 차324    32"
      ]
     },
     "execution_count": 7,
     "metadata": {},
     "output_type": "execute_result"
    }
   ],
   "source": [
    "# 강의실 데이터 파일 불러오기\n",
    "row_data = pd.read_csv('./22classData.csv')\n",
    "print(row_data.shape)\n",
    "row_data.tail()\n"
   ]
  },
  {
   "cell_type": "code",
   "execution_count": 8,
   "id": "9a30dd67",
   "metadata": {
    "collapsed": true
   },
   "outputs": [
    {
     "name": "stdout",
     "output_type": "stream",
     "text": [
      "<class 'pandas.core.frame.DataFrame'>\n",
      "RangeIndex: 1071 entries, 0 to 1070\n",
      "Data columns (total 5 columns):\n",
      " #   Column  Non-Null Count  Dtype \n",
      "---  ------  --------------  ----- \n",
      " 0   전공/학과   1071 non-null   object\n",
      " 1   교과목명    1071 non-null   object\n",
      " 2   담당교수    1071 non-null   object\n",
      " 3   강의시간    1030 non-null   object\n",
      " 4   수강인원    1071 non-null   int64 \n",
      "dtypes: int64(1), object(4)\n",
      "memory usage: 42.0+ KB\n"
     ]
    }
   ],
   "source": [
    "row_data.info()"
   ]
  },
  {
   "cell_type": "code",
   "execution_count": 9,
   "id": "a29673c9",
   "metadata": {},
   "outputs": [
    {
     "data": {
      "text/plain": [
       "전공/학과     0\n",
       "교과목명      0\n",
       "담당교수      0\n",
       "강의시간     41\n",
       "수강인원      0\n",
       "dtype: int64"
      ]
     },
     "execution_count": 9,
     "metadata": {},
     "output_type": "execute_result"
    }
   ],
   "source": [
    "row_data.isnull().sum()"
   ]
  },
  {
   "cell_type": "code",
   "execution_count": 10,
   "id": "95ce35db",
   "metadata": {},
   "outputs": [],
   "source": [
    "row_data = row_data.replace(0, np.NaN)"
   ]
  },
  {
   "cell_type": "code",
   "execution_count": 11,
   "id": "5cb8f1e7",
   "metadata": {},
   "outputs": [
    {
     "data": {
      "text/html": [
       "<div>\n",
       "<style scoped>\n",
       "    .dataframe tbody tr th:only-of-type {\n",
       "        vertical-align: middle;\n",
       "    }\n",
       "\n",
       "    .dataframe tbody tr th {\n",
       "        vertical-align: top;\n",
       "    }\n",
       "\n",
       "    .dataframe thead th {\n",
       "        text-align: right;\n",
       "    }\n",
       "</style>\n",
       "<table border=\"1\" class=\"dataframe\">\n",
       "  <thead>\n",
       "    <tr style=\"text-align: right;\">\n",
       "      <th></th>\n",
       "      <th>전공/학과</th>\n",
       "      <th>교과목명</th>\n",
       "      <th>담당교수</th>\n",
       "      <th>강의시간</th>\n",
       "      <th>수강인원</th>\n",
       "    </tr>\n",
       "  </thead>\n",
       "  <tbody>\n",
       "    <tr>\n",
       "      <th>0</th>\n",
       "      <td>글로벌커뮤니케이션센터(학사)</td>\n",
       "      <td>Advertising Communication principles in Digita...</td>\n",
       "      <td>앤써니캐셔(Anthony Kaschor)</td>\n",
       "      <td>화 C / 차121, 목 E / 차121</td>\n",
       "      <td>37.0</td>\n",
       "    </tr>\n",
       "    <tr>\n",
       "      <th>1</th>\n",
       "      <td>글로벌커뮤니케이션센터(학사)</td>\n",
       "      <td>English for Career Development</td>\n",
       "      <td>마크샘플(Mark Sample)</td>\n",
       "      <td>화 A / 차123, 목 B / 차123</td>\n",
       "      <td>33.0</td>\n",
       "    </tr>\n",
       "    <tr>\n",
       "      <th>2</th>\n",
       "      <td>글로벌커뮤니케이션센터(학사)</td>\n",
       "      <td>English for Global Tourism</td>\n",
       "      <td>허켈리(Kelly Un Kyong Hur)</td>\n",
       "      <td>화 C / 차122, 목 E / 차122</td>\n",
       "      <td>27.0</td>\n",
       "    </tr>\n",
       "    <tr>\n",
       "      <th>3</th>\n",
       "      <td>글로벌커뮤니케이션센터(학사)</td>\n",
       "      <td>Introduction to Women’s Sexuality</td>\n",
       "      <td>쉐리슬릭(Sheri Slick)</td>\n",
       "      <td>화 A / , 목 B /</td>\n",
       "      <td>50.0</td>\n",
       "    </tr>\n",
       "    <tr>\n",
       "      <th>4</th>\n",
       "      <td>글로벌커뮤니케이션센터(학사)</td>\n",
       "      <td>Korean Economy and South East Asian Markets</td>\n",
       "      <td>Haggai Kennedy Ochieng</td>\n",
       "      <td>월 F / 차227, 수 D / 차227</td>\n",
       "      <td>6.0</td>\n",
       "    </tr>\n",
       "    <tr>\n",
       "      <th>...</th>\n",
       "      <td>...</td>\n",
       "      <td>...</td>\n",
       "      <td>...</td>\n",
       "      <td>...</td>\n",
       "      <td>...</td>\n",
       "    </tr>\n",
       "    <tr>\n",
       "      <th>1066</th>\n",
       "      <td>실내디자인전공</td>\n",
       "      <td>인테리어디자인기초</td>\n",
       "      <td>한유진</td>\n",
       "      <td>화 E~F / N204</td>\n",
       "      <td>21.0</td>\n",
       "    </tr>\n",
       "    <tr>\n",
       "      <th>1067</th>\n",
       "      <td>시각디자인전공</td>\n",
       "      <td>시각디자인의기초</td>\n",
       "      <td>이승진</td>\n",
       "      <td>목 E~F / , 목 E~F / N309</td>\n",
       "      <td>25.0</td>\n",
       "    </tr>\n",
       "    <tr>\n",
       "      <th>1068</th>\n",
       "      <td>시각디자인전공</td>\n",
       "      <td>시각디자인의기초</td>\n",
       "      <td>김승민</td>\n",
       "      <td>목 E~F / , 목 E~F / N304</td>\n",
       "      <td>25.0</td>\n",
       "    </tr>\n",
       "    <tr>\n",
       "      <th>1069</th>\n",
       "      <td>텍스타일디자인전공</td>\n",
       "      <td>텍스타일디자인의기초</td>\n",
       "      <td>이재범</td>\n",
       "      <td>화 C~D / , 화 C~D / N103</td>\n",
       "      <td>33.0</td>\n",
       "    </tr>\n",
       "    <tr>\n",
       "      <th>1070</th>\n",
       "      <td>텍스타일디자인전공</td>\n",
       "      <td>텍스타일디자인의기초</td>\n",
       "      <td>서윤정</td>\n",
       "      <td>화 C~D / 차324</td>\n",
       "      <td>32.0</td>\n",
       "    </tr>\n",
       "  </tbody>\n",
       "</table>\n",
       "<p>969 rows × 5 columns</p>\n",
       "</div>"
      ],
      "text/plain": [
       "                전공/학과                                               교과목명  \\\n",
       "0     글로벌커뮤니케이션센터(학사)  Advertising Communication principles in Digita...   \n",
       "1     글로벌커뮤니케이션센터(학사)                     English for Career Development   \n",
       "2     글로벌커뮤니케이션센터(학사)                         English for Global Tourism   \n",
       "3     글로벌커뮤니케이션센터(학사)                  Introduction to Women’s Sexuality   \n",
       "4     글로벌커뮤니케이션센터(학사)        Korean Economy and South East Asian Markets   \n",
       "...               ...                                                ...   \n",
       "1066          실내디자인전공                                          인테리어디자인기초   \n",
       "1067          시각디자인전공                                           시각디자인의기초   \n",
       "1068          시각디자인전공                                           시각디자인의기초   \n",
       "1069        텍스타일디자인전공                                         텍스타일디자인의기초   \n",
       "1070        텍스타일디자인전공                                         텍스타일디자인의기초   \n",
       "\n",
       "                         담당교수                    강의시간  수강인원  \n",
       "0      앤써니캐셔(Anthony Kaschor)  화 C / 차121, 목 E / 차121  37.0  \n",
       "1           마크샘플(Mark Sample)  화 A / 차123, 목 B / 차123  33.0  \n",
       "2     허켈리(Kelly Un Kyong Hur)  화 C / 차122, 목 E / 차122  27.0  \n",
       "3           쉐리슬릭(Sheri Slick)          화 A / , 목 B /   50.0  \n",
       "4      Haggai Kennedy Ochieng  월 F / 차227, 수 D / 차227   6.0  \n",
       "...                       ...                     ...   ...  \n",
       "1066                      한유진            화 E~F / N204  21.0  \n",
       "1067                      이승진  목 E~F / , 목 E~F / N309  25.0  \n",
       "1068                      김승민  목 E~F / , 목 E~F / N304  25.0  \n",
       "1069                      이재범  화 C~D / , 화 C~D / N103  33.0  \n",
       "1070                      서윤정            화 C~D / 차324  32.0  \n",
       "\n",
       "[969 rows x 5 columns]"
      ]
     },
     "execution_count": 11,
     "metadata": {},
     "output_type": "execute_result"
    }
   ],
   "source": [
    "row_data=row_data.dropna()\n",
    "row_data"
   ]
  },
  {
   "cell_type": "code",
   "execution_count": 12,
   "id": "050340d9",
   "metadata": {},
   "outputs": [
    {
     "data": {
      "text/plain": [
       "전공/학과    0\n",
       "교과목명     0\n",
       "담당교수     0\n",
       "강의시간     0\n",
       "수강인원     0\n",
       "dtype: int64"
      ]
     },
     "execution_count": 12,
     "metadata": {},
     "output_type": "execute_result"
    }
   ],
   "source": [
    "row_data.isnull().sum()"
   ]
  },
  {
   "cell_type": "code",
   "execution_count": 24,
   "id": "4143669f",
   "metadata": {},
   "outputs": [
    {
     "name": "stdout",
     "output_type": "stream",
     "text": [
      "['금E', 'F', '인326']\n",
      "['화A', 'B', '차124']\n",
      "['금A', 'B', '인328']\n",
      "['금C', 'D', '인328']\n",
      "preprocessing data done!@!!\n"
     ]
    }
   ],
   "source": [
    "import re\n",
    "from collections import defaultdict\n",
    "\n",
    "row_data['강의시간']=row_data['강의시간'].str.replace(\" \",\"\")\n",
    "\n",
    "lec_list=[]\n",
    "\n",
    "classroom=defaultdict(set)\n",
    "\n",
    "# def define_lec_time():\n",
    "for str in (row_data['강의시간']):\n",
    "#     print(str)\n",
    "    str.split(',')\n",
    "    # 강의시간의 요소가 2개일 경우, 쪼갠다.\n",
    "    if len(str.split(',')) == 2:\n",
    "#       str = re.split('[,|/]', str)  # , or / 분리\n",
    "        str = re.split(',', str) # 콤마 기준으로 나뉨\n",
    "        #print('str is...', str)\n",
    "        test = []\n",
    "        for i in str:\n",
    "            #print('i is...', i)\n",
    "            i=re.split('/', i) # / 분리\n",
    "            for k in i:\n",
    "                test.append(k)\n",
    "        # print('test is...', test) \n",
    "        if len(test)>3:\n",
    "            if test[1]==test[3]:\n",
    "                classroom[test[1]].add(test[0]) # .add()로 더할것\n",
    "                classroom[test[1]].add(test[2])\n",
    "            elif test[1]!=test[3]:\n",
    "                classroom[test[1]].add(test[0])\n",
    "                classroom[test[3]].add(test[1])\n",
    "        elif len(test)==3: \n",
    "            print(test)\n",
    "            classroom[test[len(test)-1]].add(test[0])\n",
    "            classroom[test[len(test)-1]].add(test[0][0]+test[1]) # 앞에 요일 추가함\n",
    "        elif len(test)==2:\n",
    "            if test[0] != test[1]: # 금 E, F / 인326\n",
    "                str = re.split('/', test[1])\n",
    "                yeongang=[]\n",
    "                for i in str:\n",
    "                    yeongang.append(i)\n",
    "                classroom[yeongang[1]].add(test[0])\n",
    "                classroom[yeongang[1]].add(yeongang[0])\n",
    "            \n",
    "    elif len(str.split(','))==1:\n",
    "        str = re.split('/', str)\n",
    "        test2=[]\n",
    "        for i in str:\n",
    "            test2.append(i)\n",
    "        classroom[test2[1]].add(test2[0])\n",
    "        \n",
    "df = pd.DataFrame(classroom.items(), columns=['room', 'time'])\n",
    "\n",
    "df.to_csv('./preprocessing.csv', encoding='utf-8-sig')\n",
    "print('preprocessing data done!@!!')"
   ]
  },
  {
   "cell_type": "code",
   "execution_count": 15,
   "id": "5df82199",
   "metadata": {},
   "outputs": [],
   "source": [
    "\n",
    "# return lec_list\n",
    "        \n",
    "# '''\n",
    "#     ①월A/수B   ②월B/수A   ③월C/수E   ④월D/수F   ⑤월E/수C\n",
    "\n",
    "# ⑥월F/수D   ⑦화A/목B   ⑧화B/목A   ⑨화C/목E   ⑩화D/목F\n",
    "\n",
    "# ⑪화E/목C    ⑫화F/목D    ⑬금A~B   ⑭금C~D    ⑮금E~F\n",
    "# '''    \n",
    "# cha_class=[]\n",
    "# in_class=[]\n",
    "# big_class=[]\n",
    "# ja_class=[]\n",
    "# yu_class=[]\n",
    "# yak_class=[]\n",
    "# f_class=[]\n",
    "# l_class=[]\n",
    "# n_class=[]\n",
    "# k_class=[]\n",
    "# la_class=[]\n",
    "# nu_class=[]\n",
    "# etc_class=[]\n",
    "\n",
    "# cha_room = defaultdict(lambda: '0')\n",
    "\n",
    "# for j in define_lec_time():\n",
    "#     # print(j) # ['화C', '차121', '목E', '차121']\n",
    "#     for i in j:\n",
    "#         if '차' in i:\n",
    "#             cha_room[i]=j\n",
    "#     for k in j:\n",
    "#         if '차' in k:\n",
    "#             cha_class.append(k)\n",
    "#         elif '인' in k:\n",
    "#             in_class.append(k)\n",
    "#         elif '대' in k:\n",
    "#             big_class.append(k)\n",
    "#         elif '자' in k:\n",
    "#             ja_class.append(k)\n",
    "#         elif '유' in k:\n",
    "#             yu_class.append(k)\n",
    "#         elif '약' in k:\n",
    "#             yak_class.append(k)\n",
    "#         elif 'F' in k:\n",
    "#             f_class.append(k)\n",
    "#         elif 'L' in k:\n",
    "#             l_class.append(k)\n",
    "#         elif 'N' in k:\n",
    "#             n_class.append(k)\n",
    "#         elif 'K' in k:\n",
    "#             k_class.append(k)\n",
    "#         elif '라' in k:\n",
    "#             la_class.append(k)\n",
    "#         elif '누' in k:\n",
    "#             nu_class.append(k)\n",
    "#         else:\n",
    "#             etc_class.append(k)\n",
    "        \n",
    "#     if '월A' in j and '수B' in j:\n",
    "#         print(j)"
   ]
  },
  {
   "cell_type": "code",
   "execution_count": null,
   "id": "533e9f59",
   "metadata": {},
   "outputs": [],
   "source": [
    "# time의 강의실은 빼고 싶다\n",
    "time_list=[]\n",
    "for i in range(len(df)):\n",
    "    for j in (df['time'][i]):\n",
    "        print(j)\n",
    "        if '차' in j:\n",
    "            pass\n",
    "        else:\n",
    "            time_list.append(j)\n",
    "print(time_list)\n",
    "        \n"
   ]
  },
  {
   "cell_type": "code",
   "execution_count": null,
   "id": "96870fc0",
   "metadata": {},
   "outputs": [],
   "source": [
    "for j in define_lec_time():\n",
    "#     print(j)\n",
    "    for k in j:\n",
    "        print('-'*20)\n",
    "        for c in cha_class:\n",
    "#             print(c)\n",
    "            if c ==k:\n",
    "                print(c)\n",
    "        "
   ]
  },
  {
   "cell_type": "code",
   "execution_count": null,
   "id": "c653be19",
   "metadata": {},
   "outputs": [],
   "source": [
    "for c in cha_class:\n",
    "    print(c)"
   ]
  },
  {
   "cell_type": "code",
   "execution_count": null,
   "id": "1614a042",
   "metadata": {},
   "outputs": [],
   "source": [
    "cha_class"
   ]
  },
  {
   "cell_type": "code",
   "execution_count": null,
   "id": "5936764b",
   "metadata": {},
   "outputs": [],
   "source": [
    "in_class"
   ]
  },
  {
   "cell_type": "code",
   "execution_count": null,
   "id": "37fffc9d",
   "metadata": {},
   "outputs": [],
   "source": [
    "etc_class"
   ]
  },
  {
   "cell_type": "code",
   "execution_count": null,
   "id": "53e7f89a",
   "metadata": {},
   "outputs": [],
   "source": []
  }
 ],
 "metadata": {
  "kernelspec": {
   "display_name": "Python 3 (ipykernel)",
   "language": "python",
   "name": "python3"
  },
  "language_info": {
   "codemirror_mode": {
    "name": "ipython",
    "version": 3
   },
   "file_extension": ".py",
   "mimetype": "text/x-python",
   "name": "python",
   "nbconvert_exporter": "python",
   "pygments_lexer": "ipython3",
   "version": "3.8.13"
  }
 },
 "nbformat": 4,
 "nbformat_minor": 5
}
